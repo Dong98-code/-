{
 "cells": [
  {
   "cell_type": "markdown",
   "source": [
    "## dom 简介\r\n",
    "\r\n",
    "DOM 为xml 和html的 编程接口\r\n",
    "\r\n",
    "它提供了对文档的结构化的表述，并定义了一种方式可以使从程序中对该结构进行访问，从而改变文档的`结构，样式和内容`。DOM 将文档解析为一个由节点和对象（包含属性和方法的对象）组成的结构集合。简言之，它会将web页面和脚本或程序语言连接起来。\r\n",
    "档对象模型（DOM）提供了对同一份文档的另一种表现，存储和操作的方式。 DOM是web页面的完全的面向对象表述，它能够使用如 JavaScript等脚本语言进行修改。\r\n",
    "\r\n",
    "## 1.2 dom树\r\n",
    "\r\n",
    "一个页面就是一个文档\r\n",
    "![20210915163503](https://xd-imgsubmit.oss-cn-beijing.aliyuncs.com/images/20210915163503.png)\r\n",
    "\r\n",
    "dom 以上 看成对象\r\n",
    "\r\n",
    "## dom 和js\r\n",
    "\r\n",
    "\r\n",
    "开始的时候，JavaScript和DOM是交织在一起的，但它们最终演变成了两个独立的实体。JavaScript可以访问和操作存储在DOM中的内容，因此我们可以写成这个近似的等式：\r\n",
    "\r\n",
    "API (web 或 XML 页面) = DOM + JS (脚本语言)\r\n",
    "\r\n",
    "dom同样可以通过其他的语言访问\r\n",
    "\r\n",
    "\r\n",
    "当您在创建一个脚本时-无论是使用内嵌 `<script>`元素或者使用在web页面脚本加载的方法— 您都可以使用 `document`或 `window` 元素的API来操作文档本身或获取文档的子类（web页面中的各种元素）。\r\n",
    "\r\n",
    "您的DOM编程代码可能会像下面例子一样非常简单，如使用 window对象的alert()函数显示一个警告信息，或者使用比较复杂的方法来创建一个新的内容，如下面内容较长的实例所示\r\n",
    "\r\n",
    "```JAVASCRIPT\r\n",
    "<html>\r\n",
    "  <head>\r\n",
    "    <script>\r\n",
    "    // run this function when the document is loaded\r\n",
    "       window.onload = function() {\r\n",
    "    // create a couple of elements\r\n",
    "    // in an otherwise empty HTML page\r\n",
    "       heading = document.createElement(\"h1\");\r\n",
    "       heading_text = document.createTextNode(\"Big Head!\");\r\n",
    "       heading.appendChild(heading_text);\r\n",
    "       document.body.appendChild(heading);\r\n",
    "      }\r\n",
    "    </script>\r\n",
    "  </head>\r\n",
    "  <body>\r\n",
    "  </body>\r\n",
    "</html>\r\n",
    "\r\n",
    "```\r\n",
    "\r\n",
    "![20210915164521](https://xd-imgsubmit.oss-cn-beijing.aliyuncs.com/images/20210915164521.png)\r\n",
    "## 2 获取元素\r\n",
    " 2.1 如何获取元素\r\n",
    "\r\n",
    "### 2.1 根据id获得\r\n",
    "`getElementById`"
   ],
   "metadata": {}
  },
  {
   "cell_type": "code",
   "execution_count": null,
   "source": [],
   "outputs": [],
   "metadata": {}
  },
  {
   "cell_type": "code",
   "execution_count": null,
   "source": [],
   "outputs": [],
   "metadata": {}
  }
 ],
 "metadata": {
  "orig_nbformat": 4,
  "language_info": {
   "name": "javascript"
  },
  "kernelspec": {
   "name": "javascript",
   "display_name": "Javascript (Node.js)",
   "language": "javascript"
  }
 },
 "nbformat": 4,
 "nbformat_minor": 2
}