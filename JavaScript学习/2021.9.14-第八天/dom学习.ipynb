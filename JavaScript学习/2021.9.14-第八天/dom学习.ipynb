{
 "cells": [
  {
   "cell_type": "markdown",
   "source": [
    "## dom 简介\n",
    "\n",
    "DOM 为xml 和html的 编程接口\n",
    "\n",
    "它提供了对文档的结构化的表述，并定义了一种方式可以使从程序中对该结构进行访问，从而改变文档的`结构，样式和内容`。DOM 将文档解析为一个由节点和对象（包含属性和方法的对象）组成的结构集合。简言之，它会将web页面和脚本或程序语言连接起来。\n",
    "档对象模型（DOM）提供了对同一份文档的另一种表现，存储和操作的方式。 DOM是web页面的完全的面向对象表述，它能够使用如 JavaScript等脚本语言进行修改。\n",
    "\n",
    "## 1.2 dom树\n",
    "\n",
    "一个页面就是一个文档\n",
    "![20210915163503](https://xd-imgsubmit.oss-cn-beijing.aliyuncs.com/images/20210915163503.png)\n",
    "\n",
    "dom 以上 看成对象\n",
    "\n",
    "## dom 和js\n",
    "\n",
    "\n",
    "开始的时候，JavaScript和DOM是交织在一起的，但它们最终演变成了两个独立的实体。JavaScript可以访问和操作存储在DOM中的内容，因此我们可以写成这个近似的等式：\n",
    "\n",
    "API (web 或 XML 页面) = DOM + JS (脚本语言)\n",
    "\n",
    "dom同样可以通过其他的语言访问\n",
    "\n",
    "\n",
    "当您在创建一个脚本时-无论是使用内嵌 `<script>`元素或者使用在web页面脚本加载的方法— 您都可以使用 `document`或 `window` 元素的API来操作文档本身或获取文档的子类（web页面中的各种元素）。\n",
    "\n",
    "您的DOM编程代码可能会像下面例子一样非常简单，如使用 window对象的alert()函数显示一个警告信息，或者使用比较复杂的方法来创建一个新的内容，如下面内容较长的实例所示\n",
    "\n",
    "```JAVASCRIPT\n",
    "<html>\n",
    "  <head>\n",
    "    <script>\n",
    "    // run this function when the document is loaded\n",
    "       window.onload = function() {\n",
    "    // create a couple of elements\n",
    "    // in an otherwise empty HTML page\n",
    "       heading = document.createElement(\"h1\");\n",
    "       heading_text = document.createTextNode(\"Big Head!\");\n",
    "       heading.appendChild(heading_text);\n",
    "       document.body.appendChild(heading);\n",
    "      }\n",
    "    </script>\n",
    "  </head>\n",
    "  <body>\n",
    "  </body>\n",
    "</html>\n",
    "\n",
    "```\n",
    "\n",
    "![20210915164521](https://xd-imgsubmit.oss-cn-beijing.aliyuncs.com/images/20210915164521.png)\n",
    "## 2 获取元素\n",
    " 2.1 如何获取元素\n",
    "\n",
    "### 2.1 根据id获得\n",
    "`getElementById`"
   ],
   "metadata": {}
  }
 ],
 "metadata": {
  "orig_nbformat": 4,
  "language_info": {
   "name": "python",
   "version": "3.7.10"
  },
  "kernelspec": {
   "name": "python3",
   "display_name": "Python 3.7.10 64-bit ('base': conda)"
  },
  "interpreter": {
   "hash": "cc5f70855ac006f3de45a3cc3b9e7d8d53845e50458809cb162b0174266dec97"
  }
 },
 "nbformat": 4,
 "nbformat_minor": 2
}